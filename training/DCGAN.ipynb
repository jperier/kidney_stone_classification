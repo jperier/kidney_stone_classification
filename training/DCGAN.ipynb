{
 "cells": [
  {
   "cell_type": "code",
   "execution_count": 1,
   "metadata": {},
   "outputs": [
    {
     "data": {
      "text/plain": [
       "'1.13.1'"
      ]
     },
     "execution_count": 1,
     "metadata": {},
     "output_type": "execute_result"
    }
   ],
   "source": [
    "from __future__ import absolute_import, division, print_function, unicode_literals\n",
    "import tensorflow as tf\n",
    "\n",
    "tf.__version__"
   ]
  },
  {
   "cell_type": "code",
   "execution_count": 3,
   "metadata": {},
   "outputs": [],
   "source": [
    "import glob\n",
    "# import imageio  # To generate GIFs\n",
    "import matplotlib.pyplot as plt\n",
    "import numpy as np\n",
    "import os\n",
    "import PIL\n",
    "from tensorflow.keras import layers\n",
    "import time\n",
    "\n",
    "from IPython import display"
   ]
  },
  {
   "cell_type": "code",
   "execution_count": 4,
   "metadata": {},
   "outputs": [
    {
     "name": "stdout",
     "output_type": "stream",
     "text": [
      "Downloading data from https://storage.googleapis.com/tensorflow/tf-keras-datasets/mnist.npz\n",
      "11493376/11490434 [==============================] - 2s 0us/step\n"
     ]
    }
   ],
   "source": [
    "# TODO: Import own dataset of kidney stone\n",
    "(train_images, train_labels), (_, _) = tf.keras.datasets.mnist.load_data()"
   ]
  },
  {
   "cell_type": "markdown",
   "metadata": {},
   "source": [
    "## Preprocessing\n",
    "\n",
    "We need to make sure images in the dataset have shape of (*size*, *size*, channels).  \n",
    "We also normalize pixels value to ease learning."
   ]
  },
  {
   "cell_type": "code",
   "execution_count": 11,
   "metadata": {},
   "outputs": [
    {
     "data": {
      "text/plain": [
       "(60000, 28, 28, 1)"
      ]
     },
     "execution_count": 11,
     "metadata": {},
     "output_type": "execute_result"
    }
   ],
   "source": [
    "train_images.shape"
   ]
  },
  {
   "cell_type": "code",
   "execution_count": 10,
   "metadata": {},
   "outputs": [],
   "source": [
    "train_images = train_images.reshape(train_images.shape[0], 28, 28, 1).astype('float32') # MNIST dataset doesn't have channel\n",
    "train_images = (train_images - 127.5) / 127.5 # Normalize the images to [-1, 1]\n",
    "\n",
    "BUFFER_SIZE = 60000\n",
    "BATCH_SIZE = 256\n",
    "\n",
    "# Batch and shuffle the data\n",
    "train_dataset = tf.data.Dataset.from_tensor_slices(train_images).shuffle(BUFFER_SIZE).batch(BATCH_SIZE)"
   ]
  },
  {
   "cell_type": "code",
   "execution_count": 15,
   "metadata": {},
   "outputs": [
    {
     "data": {
      "text/plain": [
       "<matplotlib.image.AxesImage at 0x24d03e72608>"
      ]
     },
     "execution_count": 15,
     "metadata": {},
     "output_type": "execute_result"
    },
    {
     "data": {
      "image/png": "[encoded data removed]",
      "text/plain": [
       "<Figure size 432x288 with 1 Axes>"
      ]
     },
     "metadata": {
      "needs_background": "light"
     },
     "output_type": "display_data"
    }
   ],
   "source": [
    "plt.imshow(train_images[0,:,:,0], cmap='gray')"
   ]
  },
  {
   "cell_type": "markdown",
   "metadata": {},
   "source": [
    "## Generator"
   ]
  },
  {
   "cell_type": "code",
   "execution_count": 8,
   "metadata": {},
   "outputs": [],
   "source": [
    "def make_generator_model():\n",
    "    model = tf.keras.Sequential()\n",
    "    model.add(layers.Dense(7*7*256, use_bias=False, input_shape=(100,)))\n",
    "    model.add(layers.BatchNormalization())\n",
    "    model.add(layers.LeakyReLU())\n",
    "\n",
    "    model.add(layers.Reshape((7, 7, 256)))\n",
    "    assert model.output_shape == (None, 7, 7, 256) # Note: None is the batch size\n",
    "\n",
    "    model.add(layers.Conv2DTranspose(128, (5, 5), strides=(1, 1), padding='same', use_bias=False))\n",
    "    assert model.output_shape == (None, 7, 7, 128)\n",
    "    model.add(layers.BatchNormalization())\n",
    "    model.add(layers.LeakyReLU())\n",
    "\n",
    "    model.add(layers.Conv2DTranspose(64, (5, 5), strides=(2, 2), padding='same', use_bias=False))\n",
    "    assert model.output_shape == (None, 14, 14, 64)\n",
    "    model.add(layers.BatchNormalization())\n",
    "    model.add(layers.LeakyReLU())\n",
    "\n",
    "    model.add(layers.Conv2DTranspose(1, (5, 5), strides=(2, 2), padding='same', use_bias=False, activation='tanh'))\n",
    "    assert model.output_shape == (None, 28, 28, 1)\n",
    "\n",
    "    return model"
   ]
  },
  {
   "cell_type": "markdown",
   "metadata": {},
   "source": [
    "### Test Generator"
   ]
  },
  {
   "cell_type": "code",
   "execution_count": 37,
   "metadata": {},
   "outputs": [
    {
     "name": "stdout",
     "output_type": "stream",
     "text": [
      "Tensor(\"sequential_20/conv2d_transpose_56/Tanh:0\", shape=(1, 28, 28, 1), dtype=float32)\n"
     ]
    },
    {
     "ename": "FailedPreconditionError",
     "evalue": "Error while reading resource variable batch_normalization_v1_56/gamma from Container: localhost. This could mean that the variable was uninitialized. Not found: Container localhost does not exist. (Could not find resource: localhost/batch_normalization_v1_56/gamma)\n\t [[node sequential_20/batch_normalization_v1_56/ReadVariableOp (defined at <ipython-input-37-cfa8f119417a>:4) ]]\n\nCaused by op 'sequential_20/batch_normalization_v1_56/ReadVariableOp', defined at:\n  File \"C:\\Programmes\\Developpement\\Anaconda3\\envs\\Master2IA\\lib\\runpy.py\", line 193, in _run_module_as_main\n    \"__main__\", mod_spec)\n  File \"C:\\Programmes\\Developpement\\Anaconda3\\envs\\Master2IA\\lib\\runpy.py\", line 85, in _run_code\n    exec(code, run_globals)\n  File \"C:\\Programmes\\Developpement\\Anaconda3\\envs\\Master2IA\\lib\\site-packages\\ipykernel_launcher.py\", line 16, in <module>\n    app.launch_new_instance()\n  File \"C:\\Programmes\\Developpement\\Anaconda3\\envs\\Master2IA\\lib\\site-packages\\traitlets\\config\\application.py\", line 664, in launch_instance\n    app.start()\n  File \"C:\\Programmes\\Developpement\\Anaconda3\\envs\\Master2IA\\lib\\site-packages\\ipykernel\\kernelapp.py\", line 563, in start\n    self.io_loop.start()\n  File \"C:\\Programmes\\Developpement\\Anaconda3\\envs\\Master2IA\\lib\\site-packages\\tornado\\platform\\asyncio.py\", line 148, in start\n    self.asyncio_loop.run_forever()\n  File \"C:\\Programmes\\Developpement\\Anaconda3\\envs\\Master2IA\\lib\\asyncio\\base_events.py\", line 534, in run_forever\n    self._run_once()\n  File \"C:\\Programmes\\Developpement\\Anaconda3\\envs\\Master2IA\\lib\\asyncio\\base_events.py\", line 1771, in _run_once\n    handle._run()\n  File \"C:\\Programmes\\Developpement\\Anaconda3\\envs\\Master2IA\\lib\\asyncio\\events.py\", line 88, in _run\n    self._context.run(self._callback, *self._args)\n  File \"C:\\Programmes\\Developpement\\Anaconda3\\envs\\Master2IA\\lib\\site-packages\\tornado\\ioloop.py\", line 690, in <lambda>\n    lambda f: self._run_callback(functools.partial(callback, future))\n  File \"C:\\Programmes\\Developpement\\Anaconda3\\envs\\Master2IA\\lib\\site-packages\\tornado\\ioloop.py\", line 743, in _run_callback\n    ret = callback()\n  File \"C:\\Programmes\\Developpement\\Anaconda3\\envs\\Master2IA\\lib\\site-packages\\tornado\\gen.py\", line 787, in inner\n    self.run()\n  File \"C:\\Programmes\\Developpement\\Anaconda3\\envs\\Master2IA\\lib\\site-packages\\tornado\\gen.py\", line 748, in run\n    yielded = self.gen.send(value)\n  File \"C:\\Programmes\\Developpement\\Anaconda3\\envs\\Master2IA\\lib\\site-packages\\ipykernel\\kernelbase.py\", line 365, in process_one\n    yield gen.maybe_future(dispatch(*args))\n  File \"C:\\Programmes\\Developpement\\Anaconda3\\envs\\Master2IA\\lib\\site-packages\\tornado\\gen.py\", line 209, in wrapper\n    yielded = next(result)\n  File \"C:\\Programmes\\Developpement\\Anaconda3\\envs\\Master2IA\\lib\\site-packages\\ipykernel\\kernelbase.py\", line 272, in dispatch_shell\n    yield gen.maybe_future(handler(stream, idents, msg))\n  File \"C:\\Programmes\\Developpement\\Anaconda3\\envs\\Master2IA\\lib\\site-packages\\tornado\\gen.py\", line 209, in wrapper\n    yielded = next(result)\n  File \"C:\\Programmes\\Developpement\\Anaconda3\\envs\\Master2IA\\lib\\site-packages\\ipykernel\\kernelbase.py\", line 542, in execute_request\n    user_expressions, allow_stdin,\n  File \"C:\\Programmes\\Developpement\\Anaconda3\\envs\\Master2IA\\lib\\site-packages\\tornado\\gen.py\", line 209, in wrapper\n    yielded = next(result)\n  File \"C:\\Programmes\\Developpement\\Anaconda3\\envs\\Master2IA\\lib\\site-packages\\ipykernel\\ipkernel.py\", line 294, in do_execute\n    res = shell.run_cell(code, store_history=store_history, silent=silent)\n  File \"C:\\Programmes\\Developpement\\Anaconda3\\envs\\Master2IA\\lib\\site-packages\\ipykernel\\zmqshell.py\", line 536, in run_cell\n    return super(ZMQInteractiveShell, self).run_cell(*args, **kwargs)\n  File \"C:\\Programmes\\Developpement\\Anaconda3\\envs\\Master2IA\\lib\\site-packages\\IPython\\core\\interactiveshell.py\", line 2855, in run_cell\n    raw_cell, store_history, silent, shell_futures)\n  File \"C:\\Programmes\\Developpement\\Anaconda3\\envs\\Master2IA\\lib\\site-packages\\IPython\\core\\interactiveshell.py\", line 2881, in _run_cell\n    return runner(coro)\n  File \"C:\\Programmes\\Developpement\\Anaconda3\\envs\\Master2IA\\lib\\site-packages\\IPython\\core\\async_helpers.py\", line 68, in _pseudo_sync_runner\n    coro.send(None)\n  File \"C:\\Programmes\\Developpement\\Anaconda3\\envs\\Master2IA\\lib\\site-packages\\IPython\\core\\interactiveshell.py\", line 3058, in run_cell_async\n    interactivity=interactivity, compiler=compiler, result=result)\n  File \"C:\\Programmes\\Developpement\\Anaconda3\\envs\\Master2IA\\lib\\site-packages\\IPython\\core\\interactiveshell.py\", line 3249, in run_ast_nodes\n    if (await self.run_code(code, result,  async_=asy)):\n  File \"C:\\Programmes\\Developpement\\Anaconda3\\envs\\Master2IA\\lib\\site-packages\\IPython\\core\\interactiveshell.py\", line 3326, in run_code\n    exec(code_obj, self.user_global_ns, self.user_ns)\n  File \"<ipython-input-37-cfa8f119417a>\", line 4, in <module>\n    generated_image = generator(noise, training=False)\n  File \"C:\\Programmes\\Developpement\\Anaconda3\\envs\\Master2IA\\lib\\site-packages\\tensorflow\\python\\keras\\engine\\base_layer.py\", line 554, in __call__\n    outputs = self.call(inputs, *args, **kwargs)\n  File \"C:\\Programmes\\Developpement\\Anaconda3\\envs\\Master2IA\\lib\\site-packages\\tensorflow\\python\\keras\\engine\\sequential.py\", line 230, in call\n    return super(Sequential, self).call(inputs, training=training, mask=mask)\n  File \"C:\\Programmes\\Developpement\\Anaconda3\\envs\\Master2IA\\lib\\site-packages\\tensorflow\\python\\keras\\engine\\network.py\", line 815, in call\n    mask=masks)\n  File \"C:\\Programmes\\Developpement\\Anaconda3\\envs\\Master2IA\\lib\\site-packages\\tensorflow\\python\\keras\\engine\\network.py\", line 1002, in _run_internal_graph\n    output_tensors = layer.call(computed_tensor, **kwargs)\n  File \"C:\\Programmes\\Developpement\\Anaconda3\\envs\\Master2IA\\lib\\site-packages\\tensorflow\\python\\keras\\layers\\normalization.py\", line 572, in call\n    outputs = self._fused_batch_norm(inputs, training=training)\n  File \"C:\\Programmes\\Developpement\\Anaconda3\\envs\\Master2IA\\lib\\site-packages\\tensorflow\\python\\keras\\layers\\normalization.py\", line 457, in _fused_batch_norm\n    training, _fused_batch_norm_training, _fused_batch_norm_inference)\n  File \"C:\\Programmes\\Developpement\\Anaconda3\\envs\\Master2IA\\lib\\site-packages\\tensorflow\\python\\keras\\utils\\tf_utils.py\", line 54, in smart_cond\n    pred, true_fn=true_fn, false_fn=false_fn, name=name)\n  File \"C:\\Programmes\\Developpement\\Anaconda3\\envs\\Master2IA\\lib\\site-packages\\tensorflow\\python\\framework\\smart_cond.py\", line 56, in smart_cond\n    return false_fn()\n  File \"C:\\Programmes\\Developpement\\Anaconda3\\envs\\Master2IA\\lib\\site-packages\\tensorflow\\python\\keras\\layers\\normalization.py\", line 454, in _fused_batch_norm_inference\n    data_format=self._data_format)\n  File \"C:\\Programmes\\Developpement\\Anaconda3\\envs\\Master2IA\\lib\\site-packages\\tensorflow\\python\\ops\\nn_impl.py\", line 1152, in fused_batch_norm\n    scale = ops.convert_to_tensor(scale, name=\"scale\")\n  File \"C:\\Programmes\\Developpement\\Anaconda3\\envs\\Master2IA\\lib\\site-packages\\tensorflow\\python\\framework\\ops.py\", line 1039, in convert_to_tensor\n    return convert_to_tensor_v2(value, dtype, preferred_dtype, name)\n  File \"C:\\Programmes\\Developpement\\Anaconda3\\envs\\Master2IA\\lib\\site-packages\\tensorflow\\python\\framework\\ops.py\", line 1097, in convert_to_tensor_v2\n    as_ref=False)\n  File \"C:\\Programmes\\Developpement\\Anaconda3\\envs\\Master2IA\\lib\\site-packages\\tensorflow\\python\\framework\\ops.py\", line 1175, in internal_convert_to_tensor\n    ret = conversion_func(value, dtype=dtype, name=name, as_ref=as_ref)\n  File \"C:\\Programmes\\Developpement\\Anaconda3\\envs\\Master2IA\\lib\\site-packages\\tensorflow\\python\\ops\\resource_variable_ops.py\", line 1222, in _dense_var_to_tensor\n    return var._dense_var_to_tensor(dtype=dtype, name=name, as_ref=as_ref)  # pylint: disable=protected-access\n  File \"C:\\Programmes\\Developpement\\Anaconda3\\envs\\Master2IA\\lib\\site-packages\\tensorflow\\python\\ops\\resource_variable_ops.py\", line 1177, in _dense_var_to_tensor\n    return self.value()\n  File \"C:\\Programmes\\Developpement\\Anaconda3\\envs\\Master2IA\\lib\\site-packages\\tensorflow\\python\\ops\\resource_variable_ops.py\", line 644, in value\n    return self._read_variable_op()\n  File \"C:\\Programmes\\Developpement\\Anaconda3\\envs\\Master2IA\\lib\\site-packages\\tensorflow\\python\\ops\\resource_variable_ops.py\", line 728, in _read_variable_op\n    self._dtype)\n  File \"C:\\Programmes\\Developpement\\Anaconda3\\envs\\Master2IA\\lib\\site-packages\\tensorflow\\python\\ops\\gen_resource_variable_ops.py\", line 549, in read_variable_op\n    \"ReadVariableOp\", resource=resource, dtype=dtype, name=name)\n  File \"C:\\Programmes\\Developpement\\Anaconda3\\envs\\Master2IA\\lib\\site-packages\\tensorflow\\python\\framework\\op_def_library.py\", line 788, in _apply_op_helper\n    op_def=op_def)\n  File \"C:\\Programmes\\Developpement\\Anaconda3\\envs\\Master2IA\\lib\\site-packages\\tensorflow\\python\\util\\deprecation.py\", line 507, in new_func\n    return func(*args, **kwargs)\n  File \"C:\\Programmes\\Developpement\\Anaconda3\\envs\\Master2IA\\lib\\site-packages\\tensorflow\\python\\framework\\ops.py\", line 3300, in create_op\n    op_def=op_def)\n  File \"C:\\Programmes\\Developpement\\Anaconda3\\envs\\Master2IA\\lib\\site-packages\\tensorflow\\python\\framework\\ops.py\", line 1801, in __init__\n    self._traceback = tf_stack.extract_stack()\n\nFailedPreconditionError (see above for traceback): Error while reading resource variable batch_normalization_v1_56/gamma from Container: localhost. This could mean that the variable was uninitialized. Not found: Container localhost does not exist. (Could not find resource: localhost/batch_normalization_v1_56/gamma)\n\t [[node sequential_20/batch_normalization_v1_56/ReadVariableOp (defined at <ipython-input-37-cfa8f119417a>:4) ]]\n",
     "output_type": "error",
     "traceback": [
      "\u001b[1;31m---------------------------------------------------------------------------\u001b[0m",
      "\u001b[1;31mFailedPreconditionError\u001b[0m                   Traceback (most recent call last)",
      "\u001b[1;32mC:\\Programmes\\Developpement\\Anaconda3\\envs\\Master2IA\\lib\\site-packages\\tensorflow\\python\\client\\session.py\u001b[0m in \u001b[0;36m_do_call\u001b[1;34m(self, fn, *args)\u001b[0m\n\u001b[0;32m   1333\u001b[0m     \u001b[1;32mtry\u001b[0m\u001b[1;33m:\u001b[0m\u001b[1;33m\u001b[0m\u001b[1;33m\u001b[0m\u001b[0m\n\u001b[1;32m-> 1334\u001b[1;33m       \u001b[1;32mreturn\u001b[0m \u001b[0mfn\u001b[0m\u001b[1;33m(\u001b[0m\u001b[1;33m*\u001b[0m\u001b[0margs\u001b[0m\u001b[1;33m)\u001b[0m\u001b[1;33m\u001b[0m\u001b[1;33m\u001b[0m\u001b[0m\n\u001b[0m\u001b[0;32m   1335\u001b[0m     \u001b[1;32mexcept\u001b[0m \u001b[0merrors\u001b[0m\u001b[1;33m.\u001b[0m\u001b[0mOpError\u001b[0m \u001b[1;32mas\u001b[0m \u001b[0me\u001b[0m\u001b[1;33m:\u001b[0m\u001b[1;33m\u001b[0m\u001b[1;33m\u001b[0m\u001b[0m\n",
      "\u001b[1;32mC:\\Programmes\\Developpement\\Anaconda3\\envs\\Master2IA\\lib\\site-packages\\tensorflow\\python\\client\\session.py\u001b[0m in \u001b[0;36m_run_fn\u001b[1;34m(feed_dict, fetch_list, target_list, options, run_metadata)\u001b[0m\n\u001b[0;32m   1318\u001b[0m       return self._call_tf_sessionrun(\n\u001b[1;32m-> 1319\u001b[1;33m           options, feed_dict, fetch_list, target_list, run_metadata)\n\u001b[0m\u001b[0;32m   1320\u001b[0m \u001b[1;33m\u001b[0m\u001b[0m\n",
      "\u001b[1;32mC:\\Programmes\\Developpement\\Anaconda3\\envs\\Master2IA\\lib\\site-packages\\tensorflow\\python\\client\\session.py\u001b[0m in \u001b[0;36m_call_tf_sessionrun\u001b[1;34m(self, options, feed_dict, fetch_list, target_list, run_metadata)\u001b[0m\n\u001b[0;32m   1406\u001b[0m         \u001b[0mself\u001b[0m\u001b[1;33m.\u001b[0m\u001b[0m_session\u001b[0m\u001b[1;33m,\u001b[0m \u001b[0moptions\u001b[0m\u001b[1;33m,\u001b[0m \u001b[0mfeed_dict\u001b[0m\u001b[1;33m,\u001b[0m \u001b[0mfetch_list\u001b[0m\u001b[1;33m,\u001b[0m \u001b[0mtarget_list\u001b[0m\u001b[1;33m,\u001b[0m\u001b[1;33m\u001b[0m\u001b[1;33m\u001b[0m\u001b[0m\n\u001b[1;32m-> 1407\u001b[1;33m         run_metadata)\n\u001b[0m\u001b[0;32m   1408\u001b[0m \u001b[1;33m\u001b[0m\u001b[0m\n",
      "\u001b[1;31mFailedPreconditionError\u001b[0m: Error while reading resource variable batch_normalization_v1_56/gamma from Container: localhost. This could mean that the variable was uninitialized. Not found: Container localhost does not exist. (Could not find resource: localhost/batch_normalization_v1_56/gamma)\n\t [[{{node sequential_20/batch_normalization_v1_56/ReadVariableOp}}]]",
      "\nDuring handling of the above exception, another exception occurred:\n",
      "\u001b[1;31mFailedPreconditionError\u001b[0m                   Traceback (most recent call last)",
      "\u001b[1;32m<ipython-input-37-cfa8f119417a>\u001b[0m in \u001b[0;36m<module>\u001b[1;34m\u001b[0m\n\u001b[0;32m     10\u001b[0m \u001b[0mplt\u001b[0m\u001b[1;33m.\u001b[0m\u001b[0mfigure\u001b[0m\u001b[1;33m(\u001b[0m\u001b[1;33m)\u001b[0m\u001b[1;33m\u001b[0m\u001b[1;33m\u001b[0m\u001b[0m\n\u001b[0;32m     11\u001b[0m \u001b[0msess\u001b[0m \u001b[1;33m=\u001b[0m \u001b[0mtf\u001b[0m\u001b[1;33m.\u001b[0m\u001b[0mcompat\u001b[0m\u001b[1;33m.\u001b[0m\u001b[0mv1\u001b[0m\u001b[1;33m.\u001b[0m\u001b[0mSession\u001b[0m\u001b[1;33m(\u001b[0m\u001b[1;33m)\u001b[0m\u001b[1;33m\u001b[0m\u001b[1;33m\u001b[0m\u001b[0m\n\u001b[1;32m---> 12\u001b[1;33m \u001b[0mplt\u001b[0m\u001b[1;33m.\u001b[0m\u001b[0mimshow\u001b[0m\u001b[1;33m(\u001b[0m\u001b[0msess\u001b[0m\u001b[1;33m.\u001b[0m\u001b[0mrun\u001b[0m\u001b[1;33m(\u001b[0m\u001b[0mgenerated_image\u001b[0m\u001b[1;33m)\u001b[0m\u001b[1;33m[\u001b[0m\u001b[1;36m0\u001b[0m\u001b[1;33m,\u001b[0m \u001b[1;33m:\u001b[0m\u001b[1;33m,\u001b[0m \u001b[1;33m:\u001b[0m\u001b[1;33m,\u001b[0m \u001b[1;36m0\u001b[0m\u001b[1;33m]\u001b[0m\u001b[1;33m,\u001b[0m \u001b[0mcmap\u001b[0m\u001b[1;33m=\u001b[0m\u001b[1;34m'gray'\u001b[0m\u001b[1;33m)\u001b[0m\u001b[1;33m\u001b[0m\u001b[1;33m\u001b[0m\u001b[0m\n\u001b[0m",
      "\u001b[1;32mC:\\Programmes\\Developpement\\Anaconda3\\envs\\Master2IA\\lib\\site-packages\\tensorflow\\python\\client\\session.py\u001b[0m in \u001b[0;36mrun\u001b[1;34m(self, fetches, feed_dict, options, run_metadata)\u001b[0m\n\u001b[0;32m    927\u001b[0m     \u001b[1;32mtry\u001b[0m\u001b[1;33m:\u001b[0m\u001b[1;33m\u001b[0m\u001b[1;33m\u001b[0m\u001b[0m\n\u001b[0;32m    928\u001b[0m       result = self._run(None, fetches, feed_dict, options_ptr,\n\u001b[1;32m--> 929\u001b[1;33m                          run_metadata_ptr)\n\u001b[0m\u001b[0;32m    930\u001b[0m       \u001b[1;32mif\u001b[0m \u001b[0mrun_metadata\u001b[0m\u001b[1;33m:\u001b[0m\u001b[1;33m\u001b[0m\u001b[1;33m\u001b[0m\u001b[0m\n\u001b[0;32m    931\u001b[0m         \u001b[0mproto_data\u001b[0m \u001b[1;33m=\u001b[0m \u001b[0mtf_session\u001b[0m\u001b[1;33m.\u001b[0m\u001b[0mTF_GetBuffer\u001b[0m\u001b[1;33m(\u001b[0m\u001b[0mrun_metadata_ptr\u001b[0m\u001b[1;33m)\u001b[0m\u001b[1;33m\u001b[0m\u001b[1;33m\u001b[0m\u001b[0m\n",
      "\u001b[1;32mC:\\Programmes\\Developpement\\Anaconda3\\envs\\Master2IA\\lib\\site-packages\\tensorflow\\python\\client\\session.py\u001b[0m in \u001b[0;36m_run\u001b[1;34m(self, handle, fetches, feed_dict, options, run_metadata)\u001b[0m\n\u001b[0;32m   1150\u001b[0m     \u001b[1;32mif\u001b[0m \u001b[0mfinal_fetches\u001b[0m \u001b[1;32mor\u001b[0m \u001b[0mfinal_targets\u001b[0m \u001b[1;32mor\u001b[0m \u001b[1;33m(\u001b[0m\u001b[0mhandle\u001b[0m \u001b[1;32mand\u001b[0m \u001b[0mfeed_dict_tensor\u001b[0m\u001b[1;33m)\u001b[0m\u001b[1;33m:\u001b[0m\u001b[1;33m\u001b[0m\u001b[1;33m\u001b[0m\u001b[0m\n\u001b[0;32m   1151\u001b[0m       results = self._do_run(handle, final_targets, final_fetches,\n\u001b[1;32m-> 1152\u001b[1;33m                              feed_dict_tensor, options, run_metadata)\n\u001b[0m\u001b[0;32m   1153\u001b[0m     \u001b[1;32melse\u001b[0m\u001b[1;33m:\u001b[0m\u001b[1;33m\u001b[0m\u001b[1;33m\u001b[0m\u001b[0m\n\u001b[0;32m   1154\u001b[0m       \u001b[0mresults\u001b[0m \u001b[1;33m=\u001b[0m \u001b[1;33m[\u001b[0m\u001b[1;33m]\u001b[0m\u001b[1;33m\u001b[0m\u001b[1;33m\u001b[0m\u001b[0m\n",
      "\u001b[1;32mC:\\Programmes\\Developpement\\Anaconda3\\envs\\Master2IA\\lib\\site-packages\\tensorflow\\python\\client\\session.py\u001b[0m in \u001b[0;36m_do_run\u001b[1;34m(self, handle, target_list, fetch_list, feed_dict, options, run_metadata)\u001b[0m\n\u001b[0;32m   1326\u001b[0m     \u001b[1;32mif\u001b[0m \u001b[0mhandle\u001b[0m \u001b[1;32mis\u001b[0m \u001b[1;32mNone\u001b[0m\u001b[1;33m:\u001b[0m\u001b[1;33m\u001b[0m\u001b[1;33m\u001b[0m\u001b[0m\n\u001b[0;32m   1327\u001b[0m       return self._do_call(_run_fn, feeds, fetches, targets, options,\n\u001b[1;32m-> 1328\u001b[1;33m                            run_metadata)\n\u001b[0m\u001b[0;32m   1329\u001b[0m     \u001b[1;32melse\u001b[0m\u001b[1;33m:\u001b[0m\u001b[1;33m\u001b[0m\u001b[1;33m\u001b[0m\u001b[0m\n\u001b[0;32m   1330\u001b[0m       \u001b[1;32mreturn\u001b[0m \u001b[0mself\u001b[0m\u001b[1;33m.\u001b[0m\u001b[0m_do_call\u001b[0m\u001b[1;33m(\u001b[0m\u001b[0m_prun_fn\u001b[0m\u001b[1;33m,\u001b[0m \u001b[0mhandle\u001b[0m\u001b[1;33m,\u001b[0m \u001b[0mfeeds\u001b[0m\u001b[1;33m,\u001b[0m \u001b[0mfetches\u001b[0m\u001b[1;33m)\u001b[0m\u001b[1;33m\u001b[0m\u001b[1;33m\u001b[0m\u001b[0m\n",
      "\u001b[1;32mC:\\Programmes\\Developpement\\Anaconda3\\envs\\Master2IA\\lib\\site-packages\\tensorflow\\python\\client\\session.py\u001b[0m in \u001b[0;36m_do_call\u001b[1;34m(self, fn, *args)\u001b[0m\n\u001b[0;32m   1346\u001b[0m           \u001b[1;32mpass\u001b[0m\u001b[1;33m\u001b[0m\u001b[1;33m\u001b[0m\u001b[0m\n\u001b[0;32m   1347\u001b[0m       \u001b[0mmessage\u001b[0m \u001b[1;33m=\u001b[0m \u001b[0merror_interpolation\u001b[0m\u001b[1;33m.\u001b[0m\u001b[0minterpolate\u001b[0m\u001b[1;33m(\u001b[0m\u001b[0mmessage\u001b[0m\u001b[1;33m,\u001b[0m \u001b[0mself\u001b[0m\u001b[1;33m.\u001b[0m\u001b[0m_graph\u001b[0m\u001b[1;33m)\u001b[0m\u001b[1;33m\u001b[0m\u001b[1;33m\u001b[0m\u001b[0m\n\u001b[1;32m-> 1348\u001b[1;33m       \u001b[1;32mraise\u001b[0m \u001b[0mtype\u001b[0m\u001b[1;33m(\u001b[0m\u001b[0me\u001b[0m\u001b[1;33m)\u001b[0m\u001b[1;33m(\u001b[0m\u001b[0mnode_def\u001b[0m\u001b[1;33m,\u001b[0m \u001b[0mop\u001b[0m\u001b[1;33m,\u001b[0m \u001b[0mmessage\u001b[0m\u001b[1;33m)\u001b[0m\u001b[1;33m\u001b[0m\u001b[1;33m\u001b[0m\u001b[0m\n\u001b[0m\u001b[0;32m   1349\u001b[0m \u001b[1;33m\u001b[0m\u001b[0m\n\u001b[0;32m   1350\u001b[0m   \u001b[1;32mdef\u001b[0m \u001b[0m_extend_graph\u001b[0m\u001b[1;33m(\u001b[0m\u001b[0mself\u001b[0m\u001b[1;33m)\u001b[0m\u001b[1;33m:\u001b[0m\u001b[1;33m\u001b[0m\u001b[1;33m\u001b[0m\u001b[0m\n",
      "\u001b[1;31mFailedPreconditionError\u001b[0m: Error while reading resource variable batch_normalization_v1_56/gamma from Container: localhost. This could mean that the variable was uninitialized. Not found: Container localhost does not exist. (Could not find resource: localhost/batch_normalization_v1_56/gamma)\n\t [[node sequential_20/batch_normalization_v1_56/ReadVariableOp (defined at <ipython-input-37-cfa8f119417a>:4) ]]\n\nCaused by op 'sequential_20/batch_normalization_v1_56/ReadVariableOp', defined at:\n  File \"C:\\Programmes\\Developpement\\Anaconda3\\envs\\Master2IA\\lib\\runpy.py\", line 193, in _run_module_as_main\n    \"__main__\", mod_spec)\n  File \"C:\\Programmes\\Developpement\\Anaconda3\\envs\\Master2IA\\lib\\runpy.py\", line 85, in _run_code\n    exec(code, run_globals)\n  File \"C:\\Programmes\\Developpement\\Anaconda3\\envs\\Master2IA\\lib\\site-packages\\ipykernel_launcher.py\", line 16, in <module>\n    app.launch_new_instance()\n  File \"C:\\Programmes\\Developpement\\Anaconda3\\envs\\Master2IA\\lib\\site-packages\\traitlets\\config\\application.py\", line 664, in launch_instance\n    app.start()\n  File \"C:\\Programmes\\Developpement\\Anaconda3\\envs\\Master2IA\\lib\\site-packages\\ipykernel\\kernelapp.py\", line 563, in start\n    self.io_loop.start()\n  File \"C:\\Programmes\\Developpement\\Anaconda3\\envs\\Master2IA\\lib\\site-packages\\tornado\\platform\\asyncio.py\", line 148, in start\n    self.asyncio_loop.run_forever()\n  File \"C:\\Programmes\\Developpement\\Anaconda3\\envs\\Master2IA\\lib\\asyncio\\base_events.py\", line 534, in run_forever\n    self._run_once()\n  File \"C:\\Programmes\\Developpement\\Anaconda3\\envs\\Master2IA\\lib\\asyncio\\base_events.py\", line 1771, in _run_once\n    handle._run()\n  File \"C:\\Programmes\\Developpement\\Anaconda3\\envs\\Master2IA\\lib\\asyncio\\events.py\", line 88, in _run\n    self._context.run(self._callback, *self._args)\n  File \"C:\\Programmes\\Developpement\\Anaconda3\\envs\\Master2IA\\lib\\site-packages\\tornado\\ioloop.py\", line 690, in <lambda>\n    lambda f: self._run_callback(functools.partial(callback, future))\n  File \"C:\\Programmes\\Developpement\\Anaconda3\\envs\\Master2IA\\lib\\site-packages\\tornado\\ioloop.py\", line 743, in _run_callback\n    ret = callback()\n  File \"C:\\Programmes\\Developpement\\Anaconda3\\envs\\Master2IA\\lib\\site-packages\\tornado\\gen.py\", line 787, in inner\n    self.run()\n  File \"C:\\Programmes\\Developpement\\Anaconda3\\envs\\Master2IA\\lib\\site-packages\\tornado\\gen.py\", line 748, in run\n    yielded = self.gen.send(value)\n  File \"C:\\Programmes\\Developpement\\Anaconda3\\envs\\Master2IA\\lib\\site-packages\\ipykernel\\kernelbase.py\", line 365, in process_one\n    yield gen.maybe_future(dispatch(*args))\n  File \"C:\\Programmes\\Developpement\\Anaconda3\\envs\\Master2IA\\lib\\site-packages\\tornado\\gen.py\", line 209, in wrapper\n    yielded = next(result)\n  File \"C:\\Programmes\\Developpement\\Anaconda3\\envs\\Master2IA\\lib\\site-packages\\ipykernel\\kernelbase.py\", line 272, in dispatch_shell\n    yield gen.maybe_future(handler(stream, idents, msg))\n  File \"C:\\Programmes\\Developpement\\Anaconda3\\envs\\Master2IA\\lib\\site-packages\\tornado\\gen.py\", line 209, in wrapper\n    yielded = next(result)\n  File \"C:\\Programmes\\Developpement\\Anaconda3\\envs\\Master2IA\\lib\\site-packages\\ipykernel\\kernelbase.py\", line 542, in execute_request\n    user_expressions, allow_stdin,\n  File \"C:\\Programmes\\Developpement\\Anaconda3\\envs\\Master2IA\\lib\\site-packages\\tornado\\gen.py\", line 209, in wrapper\n    yielded = next(result)\n  File \"C:\\Programmes\\Developpement\\Anaconda3\\envs\\Master2IA\\lib\\site-packages\\ipykernel\\ipkernel.py\", line 294, in do_execute\n    res = shell.run_cell(code, store_history=store_history, silent=silent)\n  File \"C:\\Programmes\\Developpement\\Anaconda3\\envs\\Master2IA\\lib\\site-packages\\ipykernel\\zmqshell.py\", line 536, in run_cell\n    return super(ZMQInteractiveShell, self).run_cell(*args, **kwargs)\n  File \"C:\\Programmes\\Developpement\\Anaconda3\\envs\\Master2IA\\lib\\site-packages\\IPython\\core\\interactiveshell.py\", line 2855, in run_cell\n    raw_cell, store_history, silent, shell_futures)\n  File \"C:\\Programmes\\Developpement\\Anaconda3\\envs\\Master2IA\\lib\\site-packages\\IPython\\core\\interactiveshell.py\", line 2881, in _run_cell\n    return runner(coro)\n  File \"C:\\Programmes\\Developpement\\Anaconda3\\envs\\Master2IA\\lib\\site-packages\\IPython\\core\\async_helpers.py\", line 68, in _pseudo_sync_runner\n    coro.send(None)\n  File \"C:\\Programmes\\Developpement\\Anaconda3\\envs\\Master2IA\\lib\\site-packages\\IPython\\core\\interactiveshell.py\", line 3058, in run_cell_async\n    interactivity=interactivity, compiler=compiler, result=result)\n  File \"C:\\Programmes\\Developpement\\Anaconda3\\envs\\Master2IA\\lib\\site-packages\\IPython\\core\\interactiveshell.py\", line 3249, in run_ast_nodes\n    if (await self.run_code(code, result,  async_=asy)):\n  File \"C:\\Programmes\\Developpement\\Anaconda3\\envs\\Master2IA\\lib\\site-packages\\IPython\\core\\interactiveshell.py\", line 3326, in run_code\n    exec(code_obj, self.user_global_ns, self.user_ns)\n  File \"<ipython-input-37-cfa8f119417a>\", line 4, in <module>\n    generated_image = generator(noise, training=False)\n  File \"C:\\Programmes\\Developpement\\Anaconda3\\envs\\Master2IA\\lib\\site-packages\\tensorflow\\python\\keras\\engine\\base_layer.py\", line 554, in __call__\n    outputs = self.call(inputs, *args, **kwargs)\n  File \"C:\\Programmes\\Developpement\\Anaconda3\\envs\\Master2IA\\lib\\site-packages\\tensorflow\\python\\keras\\engine\\sequential.py\", line 230, in call\n    return super(Sequential, self).call(inputs, training=training, mask=mask)\n  File \"C:\\Programmes\\Developpement\\Anaconda3\\envs\\Master2IA\\lib\\site-packages\\tensorflow\\python\\keras\\engine\\network.py\", line 815, in call\n    mask=masks)\n  File \"C:\\Programmes\\Developpement\\Anaconda3\\envs\\Master2IA\\lib\\site-packages\\tensorflow\\python\\keras\\engine\\network.py\", line 1002, in _run_internal_graph\n    output_tensors = layer.call(computed_tensor, **kwargs)\n  File \"C:\\Programmes\\Developpement\\Anaconda3\\envs\\Master2IA\\lib\\site-packages\\tensorflow\\python\\keras\\layers\\normalization.py\", line 572, in call\n    outputs = self._fused_batch_norm(inputs, training=training)\n  File \"C:\\Programmes\\Developpement\\Anaconda3\\envs\\Master2IA\\lib\\site-packages\\tensorflow\\python\\keras\\layers\\normalization.py\", line 457, in _fused_batch_norm\n    training, _fused_batch_norm_training, _fused_batch_norm_inference)\n  File \"C:\\Programmes\\Developpement\\Anaconda3\\envs\\Master2IA\\lib\\site-packages\\tensorflow\\python\\keras\\utils\\tf_utils.py\", line 54, in smart_cond\n    pred, true_fn=true_fn, false_fn=false_fn, name=name)\n  File \"C:\\Programmes\\Developpement\\Anaconda3\\envs\\Master2IA\\lib\\site-packages\\tensorflow\\python\\framework\\smart_cond.py\", line 56, in smart_cond\n    return false_fn()\n  File \"C:\\Programmes\\Developpement\\Anaconda3\\envs\\Master2IA\\lib\\site-packages\\tensorflow\\python\\keras\\layers\\normalization.py\", line 454, in _fused_batch_norm_inference\n    data_format=self._data_format)\n  File \"C:\\Programmes\\Developpement\\Anaconda3\\envs\\Master2IA\\lib\\site-packages\\tensorflow\\python\\ops\\nn_impl.py\", line 1152, in fused_batch_norm\n    scale = ops.convert_to_tensor(scale, name=\"scale\")\n  File \"C:\\Programmes\\Developpement\\Anaconda3\\envs\\Master2IA\\lib\\site-packages\\tensorflow\\python\\framework\\ops.py\", line 1039, in convert_to_tensor\n    return convert_to_tensor_v2(value, dtype, preferred_dtype, name)\n  File \"C:\\Programmes\\Developpement\\Anaconda3\\envs\\Master2IA\\lib\\site-packages\\tensorflow\\python\\framework\\ops.py\", line 1097, in convert_to_tensor_v2\n    as_ref=False)\n  File \"C:\\Programmes\\Developpement\\Anaconda3\\envs\\Master2IA\\lib\\site-packages\\tensorflow\\python\\framework\\ops.py\", line 1175, in internal_convert_to_tensor\n    ret = conversion_func(value, dtype=dtype, name=name, as_ref=as_ref)\n  File \"C:\\Programmes\\Developpement\\Anaconda3\\envs\\Master2IA\\lib\\site-packages\\tensorflow\\python\\ops\\resource_variable_ops.py\", line 1222, in _dense_var_to_tensor\n    return var._dense_var_to_tensor(dtype=dtype, name=name, as_ref=as_ref)  # pylint: disable=protected-access\n  File \"C:\\Programmes\\Developpement\\Anaconda3\\envs\\Master2IA\\lib\\site-packages\\tensorflow\\python\\ops\\resource_variable_ops.py\", line 1177, in _dense_var_to_tensor\n    return self.value()\n  File \"C:\\Programmes\\Developpement\\Anaconda3\\envs\\Master2IA\\lib\\site-packages\\tensorflow\\python\\ops\\resource_variable_ops.py\", line 644, in value\n    return self._read_variable_op()\n  File \"C:\\Programmes\\Developpement\\Anaconda3\\envs\\Master2IA\\lib\\site-packages\\tensorflow\\python\\ops\\resource_variable_ops.py\", line 728, in _read_variable_op\n    self._dtype)\n  File \"C:\\Programmes\\Developpement\\Anaconda3\\envs\\Master2IA\\lib\\site-packages\\tensorflow\\python\\ops\\gen_resource_variable_ops.py\", line 549, in read_variable_op\n    \"ReadVariableOp\", resource=resource, dtype=dtype, name=name)\n  File \"C:\\Programmes\\Developpement\\Anaconda3\\envs\\Master2IA\\lib\\site-packages\\tensorflow\\python\\framework\\op_def_library.py\", line 788, in _apply_op_helper\n    op_def=op_def)\n  File \"C:\\Programmes\\Developpement\\Anaconda3\\envs\\Master2IA\\lib\\site-packages\\tensorflow\\python\\util\\deprecation.py\", line 507, in new_func\n    return func(*args, **kwargs)\n  File \"C:\\Programmes\\Developpement\\Anaconda3\\envs\\Master2IA\\lib\\site-packages\\tensorflow\\python\\framework\\ops.py\", line 3300, in create_op\n    op_def=op_def)\n  File \"C:\\Programmes\\Developpement\\Anaconda3\\envs\\Master2IA\\lib\\site-packages\\tensorflow\\python\\framework\\ops.py\", line 1801, in __init__\n    self._traceback = tf_stack.extract_stack()\n\nFailedPreconditionError (see above for traceback): Error while reading resource variable batch_normalization_v1_56/gamma from Container: localhost. This could mean that the variable was uninitialized. Not found: Container localhost does not exist. (Could not find resource: localhost/batch_normalization_v1_56/gamma)\n\t [[node sequential_20/batch_normalization_v1_56/ReadVariableOp (defined at <ipython-input-37-cfa8f119417a>:4) ]]\n"
     ]
    },
    {
     "data": {
      "image/png": "[encoded data removed]",
      "text/plain": [
       "<Figure size 432x288 with 1 Axes>"
      ]
     },
     "metadata": {
      "needs_background": "light"
     },
     "output_type": "display_data"
    },
    {
     "data": {
      "text/plain": [
       "<Figure size 432x288 with 0 Axes>"
      ]
     },
     "metadata": {},
     "output_type": "display_data"
    }
   ],
   "source": [
    "generator = make_generator_model()\n",
    "\n",
    "noise = tf.random.normal([1, 100])\n",
    "generated_image = generator(noise, training=False)\n",
    "print(np.array(generated_image))\n",
    "\n",
    "plt.figure()\n",
    "plt.imshow(np.random.rand(28, 28), cmap='gray')\n",
    "\n",
    "plt.figure()\n",
    "sess = tf.compat.v1.Session()\n",
    "plt.imshow(sess.run(generated_image)[0, :, :, 0], cmap='gray')"
   ]
  },
  {
   "cell_type": "markdown",
   "metadata": {},
   "source": [
    "## Discriminator"
   ]
  },
  {
   "cell_type": "code",
   "execution_count": 27,
   "metadata": {},
   "outputs": [],
   "source": [
    "def make_discriminator_model():\n",
    "    model = tf.keras.Sequential()\n",
    "    model.add(layers.Conv2D(64, (5, 5), strides=(2, 2), padding='same',\n",
    "                                     input_shape=[28, 28, 1]))\n",
    "    model.add(layers.LeakyReLU())\n",
    "    model.add(layers.Dropout(0.3))\n",
    "\n",
    "    model.add(layers.Conv2D(128, (5, 5), strides=(2, 2), padding='same'))\n",
    "    model.add(layers.LeakyReLU())\n",
    "    model.add(layers.Dropout(0.3))\n",
    "\n",
    "    model.add(layers.Flatten())\n",
    "    model.add(layers.Dense(1))\n",
    "\n",
    "    return model"
   ]
  },
  {
   "cell_type": "code",
   "execution_count": 29,
   "metadata": {},
   "outputs": [
    {
     "name": "stdout",
     "output_type": "stream",
     "text": [
      "Tensor(\"sequential_13/dense_13/BiasAdd:0\", shape=(1, 1), dtype=float32)\n"
     ]
    }
   ],
   "source": [
    "discriminator = make_discriminator_model()\n",
    "decision = discriminator(generated_image)\n",
    "print (decision)"
   ]
  },
  {
   "cell_type": "code",
   "execution_count": null,
   "metadata": {},
   "outputs": [],
   "source": []
  }
 ],
 "metadata": {
  "kernelspec": {
   "display_name": "Python 3",
   "language": "python",
   "name": "python3"
  },
  "language_info": {
   "codemirror_mode": {
    "name": "ipython",
    "version": 3
   },
   "file_extension": ".py",
   "mimetype": "text/x-python",
   "name": "python",
   "nbconvert_exporter": "python",
   "pygments_lexer": "ipython3",
   "version": "3.7.4"
  }
 },
 "nbformat": 4,
 "nbformat_minor": 4
}
